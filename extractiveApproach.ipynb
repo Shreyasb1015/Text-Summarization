{
 "cells": [
  {
   "cell_type": "markdown",
   "id": "3c03ede0-4dc3-48c0-821b-415e857b9eb8",
   "metadata": {},
   "source": [
    "##### We will use extractive approach for text-summarization. We will use the TextRank algorithm which is an extractive and unsupervised machine learning algorithm for text summarization."
   ]
  },
  {
   "cell_type": "code",
   "execution_count": 8,
   "id": "6b924758-b660-42ee-87c1-59493c3450d4",
   "metadata": {
    "tags": []
   },
   "outputs": [],
   "source": [
    "import pandas as pd\n",
    "import numpy as np"
   ]
  },
  {
   "cell_type": "code",
   "execution_count": 9,
   "id": "e9bc5f75-4a97-4b0c-b7b1-78bb87906dee",
   "metadata": {
    "tags": []
   },
   "outputs": [
    {
     "name": "stderr",
     "output_type": "stream",
     "text": [
      "[nltk_data] Downloading package punkt to\n",
      "[nltk_data]     C:\\Users\\bagwe\\AppData\\Roaming\\nltk_data...\n",
      "[nltk_data]   Package punkt is already up-to-date!\n"
     ]
    },
    {
     "data": {
      "text/plain": [
       "True"
      ]
     },
     "execution_count": 9,
     "metadata": {},
     "output_type": "execute_result"
    }
   ],
   "source": [
    "import nltk\n",
    "nltk.download('punkt')"
   ]
  },
  {
   "cell_type": "code",
   "execution_count": 10,
   "id": "5b2eb4da-ba0c-4500-a627-4ac4abfbc796",
   "metadata": {
    "tags": []
   },
   "outputs": [],
   "source": [
    "import re\n",
    "from nltk.corpus import stopwords"
   ]
  },
  {
   "cell_type": "code",
   "execution_count": 12,
   "id": "77f08fa6-ef7a-4832-9422-4ec62c123ec5",
   "metadata": {
    "tags": []
   },
   "outputs": [],
   "source": [
    "df=pd.read_csv('https://raw.githubusercontent.com/amankharwal/Website-data/master/tennis.csv')"
   ]
  },
  {
   "cell_type": "code",
   "execution_count": 13,
   "id": "83f99c7c-d5d1-4d12-80d6-e4b0039f3a85",
   "metadata": {
    "tags": []
   },
   "outputs": [
    {
     "data": {
      "text/html": [
       "<div>\n",
       "<style scoped>\n",
       "    .dataframe tbody tr th:only-of-type {\n",
       "        vertical-align: middle;\n",
       "    }\n",
       "\n",
       "    .dataframe tbody tr th {\n",
       "        vertical-align: top;\n",
       "    }\n",
       "\n",
       "    .dataframe thead th {\n",
       "        text-align: right;\n",
       "    }\n",
       "</style>\n",
       "<table border=\"1\" class=\"dataframe\">\n",
       "  <thead>\n",
       "    <tr style=\"text-align: right;\">\n",
       "      <th></th>\n",
       "      <th>article_id</th>\n",
       "      <th>article_text</th>\n",
       "      <th>source</th>\n",
       "    </tr>\n",
       "  </thead>\n",
       "  <tbody>\n",
       "    <tr>\n",
       "      <th>0</th>\n",
       "      <td>1</td>\n",
       "      <td>Maria Sharapova has basically no friends as te...</td>\n",
       "      <td>https://www.tennisworldusa.org/tennis/news/Mar...</td>\n",
       "    </tr>\n",
       "    <tr>\n",
       "      <th>1</th>\n",
       "      <td>2</td>\n",
       "      <td>BASEL, Switzerland (AP), Roger Federer advance...</td>\n",
       "      <td>http://www.tennis.com/pro-game/2018/10/copil-s...</td>\n",
       "    </tr>\n",
       "    <tr>\n",
       "      <th>2</th>\n",
       "      <td>3</td>\n",
       "      <td>Roger Federer has revealed that organisers of ...</td>\n",
       "      <td>https://scroll.in/field/899938/tennis-roger-fe...</td>\n",
       "    </tr>\n",
       "    <tr>\n",
       "      <th>3</th>\n",
       "      <td>4</td>\n",
       "      <td>Kei Nishikori will try to end his long losing ...</td>\n",
       "      <td>http://www.tennis.com/pro-game/2018/10/nishiko...</td>\n",
       "    </tr>\n",
       "    <tr>\n",
       "      <th>4</th>\n",
       "      <td>5</td>\n",
       "      <td>Federer, 37, first broke through on tour over ...</td>\n",
       "      <td>https://www.express.co.uk/sport/tennis/1036101...</td>\n",
       "    </tr>\n",
       "  </tbody>\n",
       "</table>\n",
       "</div>"
      ],
      "text/plain": [
       "   article_id                                       article_text  \\\n",
       "0           1  Maria Sharapova has basically no friends as te...   \n",
       "1           2  BASEL, Switzerland (AP), Roger Federer advance...   \n",
       "2           3  Roger Federer has revealed that organisers of ...   \n",
       "3           4  Kei Nishikori will try to end his long losing ...   \n",
       "4           5  Federer, 37, first broke through on tour over ...   \n",
       "\n",
       "                                              source  \n",
       "0  https://www.tennisworldusa.org/tennis/news/Mar...  \n",
       "1  http://www.tennis.com/pro-game/2018/10/copil-s...  \n",
       "2  https://scroll.in/field/899938/tennis-roger-fe...  \n",
       "3  http://www.tennis.com/pro-game/2018/10/nishiko...  \n",
       "4  https://www.express.co.uk/sport/tennis/1036101...  "
      ]
     },
     "execution_count": 13,
     "metadata": {},
     "output_type": "execute_result"
    }
   ],
   "source": [
    "df.head()"
   ]
  },
  {
   "cell_type": "code",
   "execution_count": 18,
   "id": "b1d9a945-d4c4-467b-80d4-17a59a5b0773",
   "metadata": {
    "tags": []
   },
   "outputs": [
    {
     "data": {
      "text/plain": [
       "(8, 3)"
      ]
     },
     "execution_count": 18,
     "metadata": {},
     "output_type": "execute_result"
    }
   ],
   "source": [
    "df.shape"
   ]
  },
  {
   "cell_type": "code",
   "execution_count": 14,
   "id": "5ffa8728-54d6-4d2f-b416-e3d648b3f14c",
   "metadata": {
    "tags": []
   },
   "outputs": [
    {
     "data": {
      "text/plain": [
       "\"Maria Sharapova has basically no friends as tennis players on the WTA Tour. The Russian player has no problems in openly speaking about it and in a recent interview she said: 'I don't really hide any feelings too much. I think everyone knows this is my job here. When I'm on the courts or when I'm on the court playing, I'm a competitor and I want to beat every single person whether they're in the locker room or across the net.So I'm not the one to strike up a conversation about the weather and know that in the next few minutes I have to go and try to win a tennis match. I'm a pretty competitive girl. I say my hellos, but I'm not sending any players flowers as well. Uhm, I'm not really friendly or close to many players. I have not a lot of friends away from the courts.' When she said she is not really close to a lot of players, is that something strategic that she is doing? Is it different on the men's tour than the women's tour? 'No, not at all. I think just because you're in the same sport doesn't mean that you have to be friends with everyone just because you're categorized, you're a tennis player, so you're going to get along with tennis players. I think every person has different interests. I have friends that have completely different jobs and interests, and I've met them in very different parts of my life. I think everyone just thinks because we're tennis players we should be the greatest of friends. But ultimately tennis is just a very small part of what we do. There are so many other things that we're interested in, that we do.'\""
      ]
     },
     "execution_count": 14,
     "metadata": {},
     "output_type": "execute_result"
    }
   ],
   "source": [
    "df['article_text'][0]"
   ]
  },
  {
   "cell_type": "code",
   "execution_count": 17,
   "id": "89fd401f-55d2-40ca-a54a-d52dc0dc5732",
   "metadata": {
    "tags": []
   },
   "outputs": [
    {
     "data": {
      "text/plain": [
       "'Federer, 37, first broke through on tour over two decades ago and he has since gone on to enjoy a glittering career. The 20-time Grand Slam winner is chasing his 99th ATP title at the Swiss Indoors this week and he faces Jan-Lennard Struff in the second round on Thursday (6pm BST). Davenport enjoyed most of her success in the late 1990s and her third and final major tournament win came at the 2000 Australian Open. But she claims the mentality of professional tennis players slowly began to change after the new millennium. \"It seems pretty friendly right now,\" said Davenport. \"I think there is a really nice environment and a great atmosphere, especially between some of the veteran players helping some of the younger players out. \"It\\'s a very pleasant atmosphere, I\\'d have to say, around the locker rooms. \"I felt like the best weeks that I had to get to know players when I was playing were the Fed Cup weeks or the Olympic weeks, not necessarily during the tournaments. \"And even though maybe we had smaller teams, I still think we kept to ourselves quite a bit. \"Not always, but I really feel like in the mid-2000 years there was a huge shift of the attitudes of the top players and being more friendly and being more giving, and a lot of that had to do with players like Roger coming up. \"I just felt like it really kind of changed where people were a little bit, definitely in the 90s, a lot more quiet, into themselves, and then it started to become better.\" Meanwhile, Federer is hoping he can improve his service game as he hunts his ninth Swiss Indoors title this week. \"I didn\\'t serve very well [against first-round opponent Filip Kranjovic,\" Federer said. \"I think I was misfiring the corners, I was not hitting the lines enough. \"Clearly you make your life more difficult, but still I was up 6-2, 3-1, break points, so things could have ended very quickly today, even though I didn\\'t have the best serve percentage stats. \"But maybe that\\'s exactly what caught up to me eventually. It\\'s just getting used to it. This is where the first rounds can be tricky.\"'"
      ]
     },
     "execution_count": 17,
     "metadata": {},
     "output_type": "execute_result"
    }
   ],
   "source": [
    "df['article_text'][4]"
   ]
  },
  {
   "cell_type": "code",
   "execution_count": 19,
   "id": "e7942742-75f1-4127-92b4-bdbbfc1ff6dc",
   "metadata": {
    "tags": []
   },
   "outputs": [],
   "source": [
    "from nltk.tokenize import sent_tokenize\n",
    "sentences=[]\n",
    "\n",
    "for s in df['article_text']:\n",
    "    sentences.append(sent_tokenize(s))\n",
    "sentences = [y for x in sentences for y in x]"
   ]
  },
  {
   "cell_type": "markdown",
   "id": "dd0eac25-3013-4794-9873-2cbadbf5cc49",
   "metadata": {
    "tags": []
   },
   "source": [
    "##### We will use glove method for word representation.It is an unsupervised learning algorithm developed by Stanford University to generate word integrations by aggregating the global word-to-word co-occurrence matrix from a corpus."
   ]
  },
  {
   "cell_type": "code",
   "execution_count": 21,
   "id": "10d80558-80ae-45a3-bd1f-8e6076e350c5",
   "metadata": {
    "tags": []
   },
   "outputs": [],
   "source": [
    "word_embeddings={}\n",
    "f=open('glove.6B.100d.txt', encoding='utf-8')\n",
    "for line in f:\n",
    "    values = line.split()\n",
    "    word = values[0]\n",
    "    coefs = np.asarray(values[1:], dtype='float32')\n",
    "    word_embeddings[word] = coefs\n",
    "f.close()"
   ]
  },
  {
   "cell_type": "code",
   "execution_count": 22,
   "id": "1a4a5338-02c3-4d19-b8d4-0b7f5eb7b305",
   "metadata": {
    "tags": []
   },
   "outputs": [],
   "source": [
    "clean_sentences = pd.Series(sentences).str.replace(\"[^a-zA-Z]\", \" \")\n"
   ]
  },
  {
   "cell_type": "code",
   "execution_count": 24,
   "id": "fdc8ecb0-4b9f-4d34-9cd9-b72eafe98b6f",
   "metadata": {
    "tags": []
   },
   "outputs": [],
   "source": [
    "clean_sentences = [s.lower() for s in clean_sentences]"
   ]
  },
  {
   "cell_type": "code",
   "execution_count": 25,
   "id": "59ff8c5b-4a65-40f3-a4d7-11e0834f27ef",
   "metadata": {
    "tags": []
   },
   "outputs": [],
   "source": [
    "stop_words = stopwords.words('english')\n",
    "def remove_stopwords(sen):\n",
    "    sen_new = \" \".join([i for i in sen if i not in stop_words])\n",
    "    return sen_new\n",
    "clean_sentences = [remove_stopwords(r.split()) for r in clean_sentences]"
   ]
  },
  {
   "cell_type": "code",
   "execution_count": 26,
   "id": "ae70c22a-7ffb-4b69-a3b7-e7459b1d2079",
   "metadata": {
    "tags": []
   },
   "outputs": [
    {
     "data": {
      "text/plain": [
       "['maria sharapova basically friends tennis players wta tour.',\n",
       " \"russian player problems openly speaking recent interview said: 'i really hide feelings much.\",\n",
       " 'think everyone knows job here.',\n",
       " \"i'm courts i'm court playing, i'm competitor want beat every single person whether they're locker room across net.so i'm one strike conversation weather know next minutes go try win tennis match.\",\n",
       " \"i'm pretty competitive girl.\",\n",
       " \"say hellos, i'm sending players flowers well.\",\n",
       " \"uhm, i'm really friendly close many players.\",\n",
       " \"lot friends away courts.'\",\n",
       " 'said really close lot players, something strategic doing?',\n",
       " \"different men's tour women's tour?\",\n",
       " \"'no, all.\",\n",
       " 'think sport mean friends everyone categorized, tennis player, going get along tennis players.',\n",
       " 'think every person different interests.',\n",
       " \"friends completely different jobs interests, i've met different parts life.\",\n",
       " \"think everyone thinks we're tennis players greatest friends.\",\n",
       " 'ultimately tennis small part do.',\n",
       " \"many things we're interested in, do.'\",\n",
       " 'basel, switzerland (ap), roger federer advanced 14th swiss indoors final career beating seventh-seeded daniil medvedev 6-1, 6-4 saturday.',\n",
       " 'seeking ninth title hometown event, 99th overall, federer play 93th-ranked marius copil sunday.',\n",
       " 'federer dominated 20th-ranked medvedev first match-point chance break serve 5-1.',\n",
       " \"dropped serve love, let another match point slip medvedev's next service game netting backhand.\",\n",
       " 'clinched fourth chance medvedev netted baseline.',\n",
       " 'copil upset expectations federer final alexander zverev 6-3, 6-7 (6), 6-4 win fifth-ranked german earlier semifinal.',\n",
       " 'romanian aims first title arriving basel without career win top-10 opponent.',\n",
       " 'copil two also beating no.',\n",
       " '6 marin cilic second round.',\n",
       " 'copil fired 26 aces past zverev never dropped serve, clinching 2 1/2 hours forehand volley winner break zverev second time semifinal.',\n",
       " \"came two rounds qualifying last weekend reach basel main draw, including beating zverev's older brother, mischa.\",\n",
       " 'federer easier time previous match medvedev, three-setter shanghai two weeks ago.',\n",
       " 'roger federer revealed organisers re-launched condensed davis cup gave three days decide would commit controversial competition.',\n",
       " 'speaking swiss indoors tournament play sundays final romanian qualifier marius copil, world number three said given impossibly short time frame make decision, opted commitment.',\n",
       " '\"they left three days decide\", federer said.',\n",
       " '\"i time consult people consult.',\n",
       " '\"i could make decision time, told wanted.\"',\n",
       " '20-time grand slam champion voiced doubts wisdom one-week format introduced organisers kosmos, promised international tennis federation $3 billion prize money next quarter-century.',\n",
       " 'competition set feature 18 countries november 18-24 finals madrid next year, replace classic home-and-away ties played four times per year decades.',\n",
       " 'kosmos headed barcelona footballer gerard pique, hoping fellow spaniard rafael nadal play upcoming event.',\n",
       " \"novak djokovic said give precedence atp's intended re-launch defunct world team cup january 2020, various australian venues.\",\n",
       " 'major players feel big event late november combined one january australian open mean much tennis little rest.',\n",
       " 'federer said earlier month shanghai chances playing davis cup non-existent.',\n",
       " '\"i highly doubt it, course.',\n",
       " 'see happens,\" said.',\n",
       " '\"i think designed me, anyhow.',\n",
       " 'designed future generation players.\"',\n",
       " 'argentina britain received wild cards new-look event, compete along four 2018 semi-finalists 12 teams win qualifying rounds next february.',\n",
       " '\"i like kind pressure,\" federer said deadline kosmos handed him.',\n",
       " 'kei nishikori try end long losing streak atp finals kevin anderson go second title year erste bank open sunday.',\n",
       " 'fifth-seeded nishikori reached third final 2018 beating mikhail kukushkin kazakhstan 6-4, 6-3 semifinals.',\n",
       " 'winner 11 atp events, nishikori triumphed since winning memphis february 2016.',\n",
       " 'lost eight straight finals since.',\n",
       " 'second-seeded anderson defeated fernando verdasco 6-3, 3-6, 6-4.',\n",
       " 'anderson shot fifth career title second year winning new york february.',\n",
       " 'nishikori leads anderson 4-2 career matchups, south african previous meeting year.',\n",
       " 'victory sunday, anderson qualify atp finals.',\n",
       " 'currently ninth place, nishikori win could move within 125 points cut eight-man event london next month.',\n",
       " 'nishikori held serve throughout kukushkin, came qualifying.',\n",
       " 'used first break point close first set going 3-0 second wrapping win first match point.',\n",
       " 'verdasco, anderson hit nine 19 aces opening set.',\n",
       " \"spaniard broke anderson twice second get another chance south african's serve final set.\",\n",
       " 'federer, 37, first broke tour two decades ago since gone enjoy glittering career.',\n",
       " '20-time grand slam winner chasing 99th atp title swiss indoors week faces jan-lennard struff second round thursday (6pm bst).',\n",
       " 'davenport enjoyed success late 1990s third final major tournament win came 2000 australian open.',\n",
       " 'claims mentality professional tennis players slowly began change new millennium.',\n",
       " '\"it seems pretty friendly right now,\" said davenport.',\n",
       " '\"i think really nice environment great atmosphere, especially veteran players helping younger players out.',\n",
       " '\"it\\'s pleasant atmosphere, i\\'d say, around locker rooms.',\n",
       " '\"i felt like best weeks get know players playing fed cup weeks olympic weeks, necessarily tournaments.',\n",
       " '\"and even though maybe smaller teams, still think kept quite bit.',\n",
       " '\"not always, really feel like mid-2000 years huge shift attitudes top players friendly giving, lot players like roger coming up.',\n",
       " '\"i felt like really kind changed people little bit, definitely 90s, lot quiet, themselves, started become better.\"',\n",
       " 'meanwhile, federer hoping improve service game hunts ninth swiss indoors title week.',\n",
       " '\"i serve well [against first-round opponent filip kranjovic,\" federer said.',\n",
       " '\"i think misfiring corners, hitting lines enough.',\n",
       " '\"clearly make life difficult, still 6-2, 3-1, break points, things could ended quickly today, even though best serve percentage stats.',\n",
       " '\"but maybe that\\'s exactly caught eventually.',\n",
       " 'getting used it.',\n",
       " 'first rounds tricky.\"',\n",
       " 'nadal played tennis since forced retire us open semi-finals juan martin del porto knee injury.',\n",
       " \"world 1 forced miss spain's davis cup clash france asian hard court season.\",\n",
       " 'atp world tour finals due begin next month, nadal ready prove fitness season-ending event 02 arena.',\n",
       " 'nadal flew paris friday footage paris masters official twitter account shows spaniard smiling strides onto court practice.',\n",
       " 'paris masters draw made nadal start campaign tuesday wednesday either fernando verdasco jeremy chardy.',\n",
       " 'nadal could play defending champion jack sock third round potential quarter-final either borna coric dominic thiem.',\n",
       " \"nadal's appearance paris big boost tournament organisers could see roger federer withdraw.\",\n",
       " 'federer action swiss indoors basel reaches final, could pull paris bid stay fresh london.',\n",
       " 'stands, federer draw scheduled face either former world 3 milos raonic jo-wilfried tsonga second round.',\n",
       " \"federer's projected route paris final could also lead matches kevin anderson novak djokovic.\",\n",
       " 'djokovic could play marco cecchinato second round.',\n",
       " 'british 1 kyle edmund 12th seed paris get underway round two either karen khachanov filip krajinovic.',\n",
       " 'tennis giveth, tennis taketh away.',\n",
       " 'end season finally sight, many players defending,or losing,huge chunks points singapore, zhuhai london, podcast co-hosts nina pantic irina falconi discuss art defending points (02:14).',\n",
       " 'secret jack sock struggled singles court year (his record 7-19).',\n",
       " 'could lose 1,400 points next weeks, instead focusing negative, perspective (06:28).',\n",
       " \"let's also forget two grand slam doubles triumphs season.\",\n",
       " 'two players, stefanos tsitsipas kyle edmund, first career atp titles last week (13:26).',\n",
       " 'big deal never forget first.',\n",
       " 'irina looks back wta title win bogota 2016, tells unforgettable story semifinal drama (14:04).',\n",
       " 'singapore, one biggest storylines (aside matches, course) on-court coaching debate.',\n",
       " 'nina irina give opinions coaching look like future, tours (18:55).',\n",
       " 'federer swiss indoors last week beating romanian qualifier marius copil final.',\n",
       " '37-year-old claimed 99th atp title hunting century french capital week.',\n",
       " 'federer handed difficult draw could could come across kevin anderson, novak djokovic rafael nadal latter rounds.',\n",
       " 'first 20-time grand slam winner wants train paris masters court afternoon deciding whether appear opening match either milos raonic jo-wilfried tsonga.',\n",
       " '\"on monday, free look feel,\" federer said winning swiss indoors.',\n",
       " '\"on tuesday fly paris train afternoon ready first match wednesday night.',\n",
       " '\"i felt good week better every day.',\n",
       " '\"we also impression stage might better play matches train.',\n",
       " '\"and long fear injury, play.\"',\n",
       " \"federer's success basel last week ninth time hometown tournament.\",\n",
       " 'delighted watched family friends purchased 60 tickets final dearest him.',\n",
       " '\"my children, parents, sister team there,\" federer added.',\n",
       " '\"it always emotional thank team.',\n",
       " 'sometimes tilts emotions, sometimes stumble.',\n",
       " '\"it means world me.',\n",
       " 'makes incredibly happy win home tournament make people happy here.',\n",
       " '\"i know maybe last title, today try lot absorb enjoy moments much consciously.',\n",
       " '\"maybe celebrate last title.',\n",
       " '\"there touching moments: seeing ball children, standing ovations, familiar faces audience.',\n",
       " 'always easy last weeks.\"']"
      ]
     },
     "execution_count": 26,
     "metadata": {},
     "output_type": "execute_result"
    }
   ],
   "source": [
    "clean_sentences"
   ]
  },
  {
   "cell_type": "code",
   "execution_count": 27,
   "id": "7e8acb32-ce53-49eb-b026-dc41b7ce5a09",
   "metadata": {
    "tags": []
   },
   "outputs": [],
   "source": [
    "sentence_vectors = []\n",
    "for i in clean_sentences:\n",
    "      if len(i) != 0:\n",
    "        v = sum([word_embeddings.get(w, np.zeros((100,))) for w in i.split()])/(len(i.split())+0.001)\n",
    "      else:\n",
    "        v = np.zeros((100,))\n",
    "      sentence_vectors.append(v)"
   ]
  },
  {
   "cell_type": "code",
   "execution_count": 30,
   "id": "c866c16c-6976-4303-bc87-c7f319d655fa",
   "metadata": {
    "tags": []
   },
   "outputs": [
    {
     "data": {
      "text/plain": [
       "[array([ 0.09423097,  0.13669517,  0.58544935,  0.20381502, -0.1671801 ,\n",
       "         0.34834924,  0.17839483,  0.37101227, -0.20376579, -0.12805886,\n",
       "         0.36699214,  0.07576428, -0.03720036,  0.22964005, -0.31566828,\n",
       "        -0.0996928 , -0.00833809,  0.27326583, -0.24724656,  0.4564281 ,\n",
       "        -0.12987752,  0.33414586,  0.12960431,  0.72200727,  0.2367894 ,\n",
       "        -0.08360017,  0.1354242 , -0.9088701 ,  0.59379951,  0.1741106 ,\n",
       "        -0.31913759,  0.25016489,  0.22933419, -0.19942921,  0.35909751,\n",
       "        -0.09988502, -0.43280267,  0.33715736, -0.17687914, -0.12392576,\n",
       "        -0.09833796, -0.183877  ,  0.21569655, -0.36719825,  0.11650406,\n",
       "        -0.23125742, -0.18450755, -0.0596488 ,  0.45691286, -0.21181901,\n",
       "        -0.16230433, -0.30980917,  0.14066741,  0.19803775,  0.09769779,\n",
       "        -1.35030617, -0.01634588,  0.26587548,  0.40476317,  0.68378705,\n",
       "        -0.23487752,  0.42370602, -0.24793846,  0.25880627, -0.07375703,\n",
       "        -0.17501676,  0.03179123,  0.43157982,  0.10041995, -0.11738845,\n",
       "         0.15455569, -0.00421435, -0.02567354, -0.21468042, -0.08263141,\n",
       "         0.11976366,  0.38418775,  0.03131333, -0.08140358, -0.04601324,\n",
       "         0.5486488 , -0.25006262, -0.22556229, -0.02792101, -0.91756533,\n",
       "        -0.39202749, -0.58739538,  0.27067744, -0.16677454, -0.13538287,\n",
       "        -0.17462318, -0.02221697,  0.24606599,  0.15373079,  0.05335898,\n",
       "        -0.02966092, -0.27947941, -0.12311589,  0.28091689,  0.48562304]),\n",
       " array([-0.04197154,  0.14494654,  0.34981264,  0.00189619, -0.11293408,\n",
       "         0.20118076, -0.18442505, -0.18556649,  0.24279901,  0.02862242,\n",
       "        -0.15604199,  0.02407447,  0.24357949, -0.01079095, -0.14058942,\n",
       "         0.0132499 , -0.07150335, -0.01769633, -0.30819993, -0.00872217,\n",
       "        -0.03411545,  0.10882648, -0.13013952, -0.00854049, -0.07421737,\n",
       "        -0.14376047, -0.02842804, -0.18097315,  0.35892318,  0.27379733,\n",
       "        -0.19249672,  0.35725682, -0.07893   , -0.09530396,  0.12171986,\n",
       "         0.11392947,  0.01467595,  0.12781417, -0.02677953, -0.00499989,\n",
       "        -0.33415928, -0.06296692,  0.20226337, -0.08226329, -0.14847166,\n",
       "        -0.16250358,  0.15857011, -0.20466756, -0.00846627, -0.54125913,\n",
       "         0.18332068, -0.0179503 ,  0.13056396,  0.67749789,  0.10945727,\n",
       "        -1.48067383,  0.03319198, -0.0245748 ,  0.78847934,  0.40152317,\n",
       "        -0.00738951,  0.48584032, -0.14061711, -0.25353164,  0.39581342,\n",
       "        -0.07588993,  0.56095464,  0.16140128,  0.02129737,  0.09315944,\n",
       "         0.00933496, -0.11099224, -0.06951889, -0.22763633,  0.05374571,\n",
       "         0.16753041, -0.07006653,  0.08926398, -0.55313283,  0.13462611,\n",
       "         0.37616153, -0.10591581, -0.04481963,  0.03582647, -1.04863546,\n",
       "        -0.38713867, -0.17318791,  0.1866588 , -0.30286516, -0.26688947,\n",
       "        -0.03573679, -0.04622375, -0.05526613,  0.00813437, -0.19643704,\n",
       "         0.21476871, -0.35938796, -0.09337025,  0.18273286,  0.20167294]),\n",
       " array([ 0.11852586,  0.33961888,  0.52827755, -0.40335933, -0.43759449,\n",
       "        -0.00299641, -0.27504899,  0.0555033 ,  0.17329974, -0.20780642,\n",
       "         0.16324594,  0.01339052,  0.16120617, -0.14713077, -0.1324853 ,\n",
       "        -0.18735033, -0.13771046,  0.3931094 , -0.24943213,  0.59537491,\n",
       "        -0.14425715,  0.26100279, -0.36148171, -0.61666467, -0.01893521,\n",
       "        -0.02166167, -0.25611478, -0.61708258,  0.13446112, -0.31523694,\n",
       "        -0.25031653,  0.71796239,  0.23503898, -0.10204279,  0.04532695,\n",
       "         0.17569746, -0.37348311,  0.17742852,  0.26099781, -0.34087182,\n",
       "        -0.38733253, -0.00339972,  0.25069387, -0.34456529, -0.54859028,\n",
       "         0.02122435,  0.05284143, -0.27927614, -0.18027658, -0.87396919,\n",
       "         0.26930613, -0.28358929, -0.1245611 ,  0.72770842,  0.0275109 ,\n",
       "        -1.73295343,  0.217848  ,  0.04011077,  0.84127376,  0.31796243,\n",
       "         0.02140372,  0.5116887 , -0.29341733, -0.26484302,  0.52640272,\n",
       "         0.14995601,  0.61593283,  0.20805718, -0.14077985,  0.17061316,\n",
       "         0.26135572, -0.19127954, -0.14814777, -0.26938213,  0.39523209,\n",
       "         0.11003299, -0.01775825, -0.1649862 , -0.23031595,  0.01539492,\n",
       "         0.39476703, -0.00267967, -0.59501697, -0.08359708, -1.12673064,\n",
       "        -0.3709898 , -0.27673665, -0.0684963 , -0.34445912, -0.44789841,\n",
       "         0.16207758, -0.17625893,  0.27628575, -0.10841631, -0.3894501 ,\n",
       "         0.12810658, -0.02556394,  0.05167966,  0.1599886 ,  0.56522299]),\n",
       " array([ 3.13941495e-03,  1.54313859e-01,  3.33877749e-01, -8.00734779e-02,\n",
       "        -1.38085288e-01,  2.72266032e-01,  7.92887412e-03,  2.24391745e-01,\n",
       "        -1.57827397e-01, -9.00937323e-02,  1.59638254e-01, -8.87298739e-04,\n",
       "         7.55544647e-02, -3.54939528e-02, -6.01311910e-02, -7.65928850e-02,\n",
       "        -1.57941174e-02,  1.79617110e-01, -3.60360955e-01,  1.36843554e-01,\n",
       "         2.17865231e-01,  9.25525644e-02,  1.74617659e-01, -1.05443404e-01,\n",
       "         1.47880421e-01, -6.89455812e-02, -5.24784372e-02, -3.59925712e-01,\n",
       "         1.79532500e-01, -2.00287386e-02, -1.09854748e-01,  2.98023578e-01,\n",
       "         1.14204477e-01,  4.45336215e-03,  1.07493051e-01,  1.60416762e-01,\n",
       "        -2.70478371e-01,  1.23094709e-01,  6.99697799e-02, -1.36425761e-01,\n",
       "        -1.59642559e-01, -2.16330706e-01,  8.70456748e-02, -3.30313629e-01,\n",
       "        -3.47944562e-02, -3.86371093e-02,  4.97486058e-02, -2.24827261e-01,\n",
       "         6.73464746e-02, -5.66873008e-01,  4.29987437e-02, -8.44306933e-02,\n",
       "         3.71486063e-02,  6.91140611e-01,  2.23187266e-02, -1.58154769e+00,\n",
       "        -7.23674203e-02,  7.86928646e-02,  1.10065965e+00,  3.68501660e-01,\n",
       "        -2.30882231e-01,  4.31574175e-01, -1.41663046e-01, -5.08201700e-03,\n",
       "         3.75659814e-01,  6.42377027e-02,  1.80879063e-01,  2.29440677e-01,\n",
       "        -2.18248347e-01, -7.78514913e-02, -2.39847098e-02, -1.54672045e-01,\n",
       "         4.75275972e-02, -2.50695763e-01,  1.42313537e-01,  1.22433276e-01,\n",
       "        -3.00500648e-02, -2.73375606e-01, -2.36258960e-01,  5.55542211e-02,\n",
       "         3.82726556e-01, -1.08410053e-01, -2.93130441e-01, -1.25954993e-02,\n",
       "        -8.88901969e-01, -2.22334407e-01, -3.22525726e-02,  1.70917099e-01,\n",
       "         8.56108385e-05, -1.61608982e-01,  2.78539427e-02, -3.03263737e-02,\n",
       "        -4.39993566e-02, -2.99258834e-02, -2.80464210e-01,  1.01250347e-01,\n",
       "         1.46894748e-02,  3.93559255e-02,  3.37192705e-01,  1.26858290e-01]),\n",
       " array([-0.19780555,  0.1244139 ,  0.08947014, -0.17135965, -0.24333917,\n",
       "        -0.20091222, -0.04702197,  0.04111223, -0.18526618, -0.11486403,\n",
       "         0.06754137, -0.12395851,  0.05543264, -0.24097201, -0.18388902,\n",
       "        -0.0893989 , -0.16607598,  0.26652837,  0.14002249,  0.16829768,\n",
       "         0.28340415,  0.28599349,  0.16446139, -0.1187978 ,  0.03791352,\n",
       "        -0.02534366, -0.21306673, -0.401937  , -0.21005749,  0.07213522,\n",
       "        -0.1205506 ,  0.38104724,  0.13639458, -0.41907773,  0.44105724,\n",
       "        -0.04732767, -0.37513373, -0.05263859, -0.07868282, -0.18545363,\n",
       "         0.18949013, -0.11996876,  0.03395351, -0.06225769, -0.12860585,\n",
       "        -0.04503874,  0.26264185,  0.13259686, -0.02688228, -0.62956762,\n",
       "        -0.10623694, -0.30350912, -0.0395901 ,  0.21583104,  0.1643939 ,\n",
       "        -1.02816797,  0.24606098,  0.11781555,  0.62079478, -0.06918471,\n",
       "        -0.11352757,  0.24430142, -0.4631592 ,  0.02203699,  0.22707573,\n",
       "        -0.06570608,  0.25162559, -0.03701575,  0.13977031, -0.02426793,\n",
       "         0.15322669, -0.13264417,  0.09542314,  0.12063484,  0.18994752,\n",
       "         0.13698075, -0.06515496, -0.14851537, -0.11644252, -0.15460135,\n",
       "         0.24875281,  0.06746738, -0.19205199,  0.05813799, -0.58054985,\n",
       "        -0.30897526, -0.14788803,  0.04926518, -0.29358911, -0.33905523,\n",
       "        -0.04839165,  0.10417521, -0.12233441, -0.02286713, -0.03681654,\n",
       "         0.13682054, -0.2053664 , -0.0684229 ,  0.16941014,  0.33603599]),\n",
       " array([-0.02538395,  0.35919011,  0.08092129, -0.19704756, -0.12308241,\n",
       "         0.21633338, -0.10456507, -0.09241394, -0.09898585, -0.26795786,\n",
       "         0.01046565, -0.05588202,  0.16586059,  0.08340408,  0.02729196,\n",
       "        -0.12932895, -0.03195372,  0.19953007, -0.07543637,  0.08578346,\n",
       "        -0.0448893 ,  0.06169404,  0.05115412,  0.03762891,  0.06591701,\n",
       "         0.05245108, -0.08841194, -0.16788459,  0.17557777, -0.11856164,\n",
       "         0.00828067,  0.13427939,  0.01186387, -0.09137823,  0.1189153 ,\n",
       "         0.02710184, -0.01567742,  0.09852164, -0.11628768, -0.03933995,\n",
       "        -0.11854335, -0.1794825 ,  0.15039723, -0.18007285,  0.09241394,\n",
       "        -0.05566777, -0.09357892,  0.04019298, -0.02646907, -0.41357806,\n",
       "         0.24977432, -0.13071647, -0.1215712 ,  0.44597914, -0.12593772,\n",
       "        -0.93104272, -0.11820926, -0.03070276,  0.77421799,  0.28204656,\n",
       "        -0.09541866,  0.59915582, -0.05390002, -0.01689959,  0.16679332,\n",
       "        -0.02786887,  0.34977717,  0.30544494,  0.03495643, -0.15614684,\n",
       "        -0.0189373 , -0.16345365, -0.15629339, -0.39559634,  0.02387173,\n",
       "         0.31932295,  0.1201037 ,  0.06073418, -0.27770461,  0.0497776 ,\n",
       "         0.58955148, -0.07971433, -0.40637909, -0.27638052, -0.65425226,\n",
       "        -0.2424925 ,  0.16273761,  0.0077239 , -0.04521212, -0.02037169,\n",
       "        -0.10164691, -0.06278389, -0.11404085, -0.26560919, -0.35743466,\n",
       "        -0.08319183, -0.42148421,  0.07817426,  0.21874018,  0.0896272 ]),\n",
       " array([-0.12414498,  0.27997143,  0.13140837, -0.04843594, -0.12237338,\n",
       "         0.00530681, -0.06285959,  0.02714127, -0.01839395, -0.11177118,\n",
       "         0.03918598, -0.18848142,  0.17353721, -0.11374191,  0.0676749 ,\n",
       "        -0.08434652, -0.00678418, -0.08329667, -0.12623653,  0.40298671,\n",
       "         0.27297672,  0.19572974,  0.12025296, -0.13933581,  0.0800175 ,\n",
       "        -0.1368833 , -0.12337501, -0.20781888,  0.05025568, -0.0121367 ,\n",
       "        -0.09620854,  0.37200271,  0.09262962, -0.0346853 ,  0.32059705,\n",
       "         0.11612769, -0.00770904, -0.0493001 , -0.12215112, -0.11141694,\n",
       "        -0.16133966, -0.24942723,  0.17258863, -0.239033  , -0.19244823,\n",
       "        -0.08643965,  0.1541694 ,  0.10726425,  0.06468346, -0.57914728,\n",
       "         0.00352278, -0.17575389,  0.02051364,  0.48339094, -0.08616541,\n",
       "        -1.31849735,  0.07906013, -0.04325217,  0.79147267,  0.27278103,\n",
       "        -0.18958048,  0.4541164 , -0.20516355,  0.02539066,  0.28932095,\n",
       "         0.04605642,  0.20507642,  0.15239252,  0.13174975, -0.19589487,\n",
       "         0.01766604, -0.14100529,  0.10033552, -0.31442279,  0.0643818 ,\n",
       "         0.07285387,  0.08102414, -0.10519912, -0.3604028 ,  0.11643479,\n",
       "         0.34487031,  0.12649107, -0.15615912,  0.04477075, -0.85874876,\n",
       "        -0.03082274, -0.21352807,  0.17395229, -0.28180974, -0.27233966,\n",
       "         0.07858334,  0.04695984, -0.00627824, -0.06416598, -0.41166262,\n",
       "         0.08815826, -0.3347079 , -0.11563662,  0.0738886 ,  0.22228539]),\n",
       " array([ 0.09951163,  0.13164908,  0.29551861, -0.36508624, -0.16929818,\n",
       "         0.40932516, -0.37894777,  0.09086953,  0.0361867 , -0.33465382,\n",
       "         0.21024341,  0.06896675,  0.10112721,  0.03869282,  0.01961835,\n",
       "        -0.3471707 , -0.11329068,  0.19329917, -0.32565859,  0.49675083,\n",
       "         0.19176456,  0.60319674,  0.00277281, -0.29342891,  0.03076231,\n",
       "         0.02698201, -0.29891028, -0.30262683,  0.26767056, -0.08748813,\n",
       "        -0.02664334,  0.35533867,  0.19099974,  0.04613347,  0.03361909,\n",
       "         0.16968759, -0.07364159,  0.10737865,  0.03340414, -0.01238765,\n",
       "        -0.28147512, -0.29794302,  0.14648837, -0.3696476 , -0.2943564 ,\n",
       "        -0.1323509 , -0.16916272,  0.23546862,  0.22803349, -0.39864784,\n",
       "        -0.02260185, -0.29583354, -0.02161334,  0.73228196,  0.15906524,\n",
       "        -1.72459379, -0.11586128, -0.04994801,  0.96145709,  0.25870782,\n",
       "         0.04394726,  1.03951514, -0.22956825,  0.09438891,  0.37510122,\n",
       "         0.05137713,  0.56423392,  0.10690702,  0.14102749,  0.03458885,\n",
       "        -0.12688577, -0.09405398,  0.1566321 , -0.54600602,  0.03279355,\n",
       "         0.34043211,  0.1020345 , -0.20717696, -0.35828794,  0.20439416,\n",
       "         0.34787803,  0.20896702, -0.23294925, -0.09578451, -1.04168957,\n",
       "        -0.12239415, -0.31217198,  0.02389652, -0.47267934, -0.25772756,\n",
       "        -0.09074506, -0.07750062,  0.28100898, -0.07854537, -0.554029  ,\n",
       "        -0.24412896, -0.2068308 ,  0.28995152,  0.34297928,  0.41291926]),\n",
       " array([-0.02052943,  0.11099862,  0.28308823, -0.12798402, -0.12515936,\n",
       "        -0.38871604, -0.16449856,  0.01448281,  0.05236383, -0.02603299,\n",
       "         0.1603527 ,  0.03729754,  0.14444782, -0.08283741,  0.03725921,\n",
       "        -0.25720335, -0.23051994,  0.07091205, -0.36544682,  0.34444696,\n",
       "         0.29746282,  0.31919909, -0.12801025, -0.34526933, -0.04899387,\n",
       "         0.0656113 , -0.11606649, -0.34682289, -0.01550356, -0.07256056,\n",
       "        -0.27192676,  0.41493951,  0.11967179, -0.06798434,  0.1977278 ,\n",
       "         0.07020623,  0.0417914 ,  0.23693201,  0.10149464, -0.09173766,\n",
       "        -0.18197039, -0.17695913,  0.25688413, -0.31116648, -0.40991377,\n",
       "        -0.06985302,  0.19189602,  0.02411911, -0.2523727 , -0.72948294,\n",
       "         0.17111761, -0.25908261, -0.05884764,  0.62428071, -0.08095563,\n",
       "        -1.83017116,  0.11870017, -0.04429597,  1.03804526,  0.37861143,\n",
       "        -0.02074165,  0.6664353 , -0.31801651,  0.02868017,  0.37755355,\n",
       "        -0.07052494,  0.51697788,  0.28950332,  0.05747131,  0.05099112,\n",
       "         0.19286837, -0.24898026,  0.12615661, -0.43845193,  0.23050205,\n",
       "        -0.01046808, -0.02429909,  0.01476016, -0.61803775,  0.24380177,\n",
       "         0.44333672,  0.02715548, -0.36793564, -0.02211083, -0.95959128,\n",
       "        -0.1341216 ,  0.0627884 ,  0.03115777, -0.32027334, -0.36432821,\n",
       "         0.11899699,  0.01318947,  0.05529447, -0.09626172, -0.41073313,\n",
       "         0.17941957, -0.09790676, -0.2268559 ,  0.05381377,  0.62606798]),\n",
       " array([-0.13676465,  0.09810238,  0.16273186, -0.01386763,  0.12366786,\n",
       "         0.00330734,  0.15255489,  0.29866427, -0.23357529,  0.01318536,\n",
       "        -0.04026255, -0.07009098,  0.19376725,  0.0595261 , -0.0240132 ,\n",
       "         0.03272506,  0.1069906 , -0.02171166, -0.1379744 ,  0.13680264,\n",
       "         0.13902819,  0.02627875,  0.02307938,  0.00354529, -0.01665267,\n",
       "        -0.13190962,  0.14682503, -0.18103979,  0.22236753, -0.08095982,\n",
       "        -0.16373525,  0.09497101, -0.11832486, -0.09458309,  0.19505299,\n",
       "         0.19386323, -0.15632674,  0.11583263, -0.26478304, -0.09913957,\n",
       "        -0.09532893, -0.03148371,  0.18743331,  0.00945891, -0.07179165,\n",
       "         0.01334633, -0.08279144, -0.12064767, -0.01782843, -0.32469305,\n",
       "        -0.07467707, -0.00581164,  0.03475345,  0.21965207,  0.10275345,\n",
       "        -0.9984603 , -0.02378125,  0.16291942,  0.55684862,  0.32218756,\n",
       "        -0.12461308,  0.48932214,  0.1695021 ,  0.00502099,  0.23425915,\n",
       "         0.04818836, -0.05680524,  0.03661628,  0.12891222, -0.13185223,\n",
       "        -0.05352989,  0.02035193, -0.12066386, -0.08826015,  0.0625175 ,\n",
       "         0.08509458,  0.11609279, -0.12509298, -0.1135353 , -0.12594082,\n",
       "         0.14779244, -0.03713577, -0.05557088,  0.07138418, -0.56074784,\n",
       "         0.11245151, -0.23029594, -0.20388522, -0.14245951,  0.06986003,\n",
       "        -0.31551489,  0.02062988, -0.02457509, -0.07710858, -0.04314137,\n",
       "         0.07007199, -0.41091981,  0.02922216,  0.28176565,  0.15337333])]"
      ]
     },
     "execution_count": 30,
     "metadata": {},
     "output_type": "execute_result"
    }
   ],
   "source": [
    "sentence_vectors[:10]"
   ]
  },
  {
   "cell_type": "markdown",
   "id": "c678644f-b727-48e7-87f4-79c5a58fa9e3",
   "metadata": {},
   "source": [
    "##### Now ,we will need to find the similarities between the sentences..using cosine similarity."
   ]
  },
  {
   "cell_type": "code",
   "execution_count": 31,
   "id": "e5d3ee69-30e9-4c37-96a3-f3fc555e24ea",
   "metadata": {
    "tags": []
   },
   "outputs": [],
   "source": [
    "###creating empty similarity matrix\n",
    "sim_mat = np.zeros([len(sentences), len(sentences)])"
   ]
  },
  {
   "cell_type": "code",
   "execution_count": 32,
   "id": "34a09002-9691-4225-b208-734f9865c295",
   "metadata": {
    "tags": []
   },
   "outputs": [],
   "source": [
    "from sklearn.metrics.pairwise import cosine_similarity\n",
    "for i in range(len(sentences)):\n",
    "      for j in range(len(sentences)):\n",
    "        if i != j:\n",
    "            sim_mat[i][j] = cosine_similarity(sentence_vectors[i].reshape(1,100), sentence_vectors[j].reshape(1,100))[0,0]"
   ]
  },
  {
   "cell_type": "markdown",
   "id": "8ffc5c45-daa6-48ad-9a9d-ce343618451a",
   "metadata": {},
   "source": [
    "##### Converting the similarity matrix to graphs where node represents sentences and path represents the similarity score."
   ]
  },
  {
   "cell_type": "code",
   "execution_count": 33,
   "id": "c9d0f462-3c54-43e4-8a2b-8b36333ddf43",
   "metadata": {
    "tags": []
   },
   "outputs": [],
   "source": [
    "import networkx as nx"
   ]
  },
  {
   "cell_type": "code",
   "execution_count": 34,
   "id": "7e24e35b-50ef-4c9b-a960-4f5e962c78e9",
   "metadata": {
    "tags": []
   },
   "outputs": [],
   "source": [
    "nx_graph = nx.from_numpy_array(sim_mat)\n",
    "scores = nx.pagerank(nx_graph)"
   ]
  },
  {
   "cell_type": "code",
   "execution_count": 35,
   "id": "084e38b9-7dc9-42b2-93e7-d5d66e2fc031",
   "metadata": {
    "tags": []
   },
   "outputs": [
    {
     "name": "stdout",
     "output_type": "stream",
     "text": [
      "ARTICLE:\n",
      "Maria Sharapova has basically no friends as tennis players on the WTA Tour. The Russian player has no problems in openly speaking about it and in a recent interview she said: 'I don't really hide any feelings too much. I think everyone knows this is my job here. When I'm on the courts or when I'm on the court playing, I'm a competitor and I want to beat every single person whether they're in the locker room or across the net.So I'm not the one to strike up a conversation about the weather and know that in the next few minutes I have to go and try to win a tennis match. I'm a pretty competitive girl. I say my hellos, but I'm not sending any players flowers as well. Uhm, I'm not really friendly or close to many players. I have not a lot of friends away from the courts.' When she said she is not really close to a lot of players, is that something strategic that she is doing? Is it different on the men's tour than the women's tour? 'No, not at all. I think just because you're in the same sport doesn't mean that you have to be friends with everyone just because you're categorized, you're a tennis player, so you're going to get along with tennis players. I think every person has different interests. I have friends that have completely different jobs and interests, and I've met them in very different parts of my life. I think everyone just thinks because we're tennis players we should be the greatest of friends. But ultimately tennis is just a very small part of what we do. There are so many other things that we're interested in, that we do.'\n",
      "\n",
      "\n",
      "SUMMARY:\n",
      "Major players feel that a big event in late November combined with one in January before the Australian Open will mean too much tennis and too little rest.\n",
      "\n",
      "\n",
      "ARTICLE:\n",
      "BASEL, Switzerland (AP), Roger Federer advanced to the 14th Swiss Indoors final of his career by beating seventh-seeded Daniil Medvedev 6-1, 6-4 on Saturday. Seeking a ninth title at his hometown event, and a 99th overall, Federer will play 93th-ranked Marius Copil on Sunday. Federer dominated the 20th-ranked Medvedev and had his first match-point chance to break serve again at 5-1. He then dropped his serve to love, and let another match point slip in Medvedev's next service game by netting a backhand. He clinched on his fourth chance when Medvedev netted from the baseline. Copil upset expectations of a Federer final against Alexander Zverev in a 6-3, 6-7 (6), 6-4 win over the fifth-ranked German in the earlier semifinal. The Romanian aims for a first title after arriving at Basel without a career win over a top-10 opponent. Copil has two after also beating No. 6 Marin Cilic in the second round. Copil fired 26 aces past Zverev and never dropped serve, clinching after 2 1/2 hours with a forehand volley winner to break Zverev for the second time in the semifinal. He came through two rounds of qualifying last weekend to reach the Basel main draw, including beating Zverev's older brother, Mischa. Federer had an easier time than in his only previous match against Medvedev, a three-setter at Shanghai two weeks ago.\n",
      "\n",
      "\n",
      "SUMMARY:\n",
      "Speaking at the Swiss Indoors tournament where he will play in Sundays final against Romanian qualifier Marius Copil, the world number three said that given the impossibly short time frame to make a decision, he opted out of any commitment.\n",
      "\n",
      "\n",
      "ARTICLE:\n",
      "Roger Federer has revealed that organisers of the re-launched and condensed Davis Cup gave him three days to decide if he would commit to the controversial competition. Speaking at the Swiss Indoors tournament where he will play in Sundays final against Romanian qualifier Marius Copil, the world number three said that given the impossibly short time frame to make a decision, he opted out of any commitment. \"They only left me three days to decide\", Federer said. \"I didn't to have time to consult with all the people I had to consult. \"I could not make a decision in that time, so I told them to do what they wanted.\" The 20-time Grand Slam champion has voiced doubts about the wisdom of the one-week format to be introduced by organisers Kosmos, who have promised the International Tennis Federation up to $3 billion in prize money over the next quarter-century. The competition is set to feature 18 countries in the November 18-24 finals in Madrid next year, and will replace the classic home-and-away ties played four times per year for decades. Kosmos is headed by Barcelona footballer Gerard Pique, who is hoping fellow Spaniard Rafael Nadal will play in the upcoming event. Novak Djokovic has said he will give precedence to the ATP's intended re-launch of the defunct World Team Cup in January 2020, at various Australian venues. Major players feel that a big event in late November combined with one in January before the Australian Open will mean too much tennis and too little rest. Federer said earlier this month in Shanghai in that his chances of playing the Davis Cup were all but non-existent. \"I highly doubt it, of course. We will see what happens,\" he said. \"I do not think this was designed for me, anyhow. This was designed for the future generation of players.\" Argentina and Britain received wild cards to the new-look event, and will compete along with the four 2018 semi-finalists and the 12 teams who win qualifying rounds next February. \"I don't like being under that kind of pressure,\" Federer said of the deadline Kosmos handed him.\n",
      "\n",
      "\n",
      "SUMMARY:\n",
      "\"I felt like the best weeks that I had to get to know players when I was playing were the Fed Cup weeks or the Olympic weeks, not necessarily during the tournaments.\n",
      "\n",
      "\n",
      "ARTICLE:\n",
      "Kei Nishikori will try to end his long losing streak in ATP finals and Kevin Anderson will go for his second title of the year at the Erste Bank Open on Sunday. The fifth-seeded Nishikori reached his third final of 2018 after beating Mikhail Kukushkin of Kazakhstan 6-4, 6-3 in the semifinals. A winner of 11 ATP events, Nishikori hasn't triumphed since winning in Memphis in February 2016. He has lost eight straight finals since. The second-seeded Anderson defeated Fernando Verdasco 6-3, 3-6, 6-4. Anderson has a shot at a fifth career title and second of the year after winning in New York in February. Nishikori leads Anderson 4-2 on career matchups, but the South African won their only previous meeting this year. With a victory on Sunday, Anderson will qualify for the ATP Finals. Currently in ninth place, Nishikori with a win could move to within 125 points of the cut for the eight-man event in London next month. Nishikori held serve throughout against Kukushkin, who came through qualifying. He used his first break point to close out the first set before going up 3-0 in the second and wrapping up the win on his first match point. Against Verdasco, Anderson hit nine of his 19 aces in the opening set. The Spaniard broke Anderson twice in the second but didn't get another chance on the South African's serve in the final set.\n",
      "\n",
      "\n",
      "SUMMARY:\n",
      "When I'm on the courts or when I'm on the court playing, I'm a competitor and I want to beat every single person whether they're in the locker room or across the net.So I'm not the one to strike up a conversation about the weather and know that in the next few minutes I have to go and try to win a tennis match.\n",
      "\n",
      "\n",
      "ARTICLE:\n",
      "Federer, 37, first broke through on tour over two decades ago and he has since gone on to enjoy a glittering career. The 20-time Grand Slam winner is chasing his 99th ATP title at the Swiss Indoors this week and he faces Jan-Lennard Struff in the second round on Thursday (6pm BST). Davenport enjoyed most of her success in the late 1990s and her third and final major tournament win came at the 2000 Australian Open. But she claims the mentality of professional tennis players slowly began to change after the new millennium. \"It seems pretty friendly right now,\" said Davenport. \"I think there is a really nice environment and a great atmosphere, especially between some of the veteran players helping some of the younger players out. \"It's a very pleasant atmosphere, I'd have to say, around the locker rooms. \"I felt like the best weeks that I had to get to know players when I was playing were the Fed Cup weeks or the Olympic weeks, not necessarily during the tournaments. \"And even though maybe we had smaller teams, I still think we kept to ourselves quite a bit. \"Not always, but I really feel like in the mid-2000 years there was a huge shift of the attitudes of the top players and being more friendly and being more giving, and a lot of that had to do with players like Roger coming up. \"I just felt like it really kind of changed where people were a little bit, definitely in the 90s, a lot more quiet, into themselves, and then it started to become better.\" Meanwhile, Federer is hoping he can improve his service game as he hunts his ninth Swiss Indoors title this week. \"I didn't serve very well [against first-round opponent Filip Kranjovic,\" Federer said. \"I think I was misfiring the corners, I was not hitting the lines enough. \"Clearly you make your life more difficult, but still I was up 6-2, 3-1, break points, so things could have ended very quickly today, even though I didn't have the best serve percentage stats. \"But maybe that's exactly what caught up to me eventually. It's just getting used to it. This is where the first rounds can be tricky.\"\n",
      "\n",
      "\n",
      "SUMMARY:\n",
      "Federer had an easier time than in his only previous match against Medvedev, a three-setter at Shanghai two weeks ago.\n",
      "\n",
      "\n"
     ]
    }
   ],
   "source": [
    "ranked_sentences = sorted(((scores[i],s) for i,s in enumerate(sentences)), reverse=True)\n",
    "for i in range(5):\n",
    "      print(\"ARTICLE:\")\n",
    "      print(df['article_text'][i])\n",
    "      print('\\n')\n",
    "      print(\"SUMMARY:\")\n",
    "      print(ranked_sentences[i][1])\n",
    "      print('\\n')"
   ]
  },
  {
   "cell_type": "code",
   "execution_count": null,
   "id": "5ab2d140-fb62-459f-9cc3-a07dd3e6d0b5",
   "metadata": {},
   "outputs": [],
   "source": []
  }
 ],
 "metadata": {
  "kernelspec": {
   "display_name": "Python 3 (ipykernel)",
   "language": "python",
   "name": "python3"
  },
  "language_info": {
   "codemirror_mode": {
    "name": "ipython",
    "version": 3
   },
   "file_extension": ".py",
   "mimetype": "text/x-python",
   "name": "python",
   "nbconvert_exporter": "python",
   "pygments_lexer": "ipython3",
   "version": "3.11.5"
  }
 },
 "nbformat": 4,
 "nbformat_minor": 5
}
